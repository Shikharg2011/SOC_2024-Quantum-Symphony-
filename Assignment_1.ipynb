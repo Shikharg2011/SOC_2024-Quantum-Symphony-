{
  "cells": [
    {
      "cell_type": "code",
      "execution_count": 7,
      "metadata": {
        "id": "Z_Nzv1151ULQ"
      },
      "outputs": [],
      "source": [
        "import numpy as np\n",
        "import pandas as pd\n",
        "import matplotlib.pyplot as plt"
      ]
    },
    {
      "cell_type": "code",
      "execution_count": 39,
      "metadata": {
        "id": "wbLRFnkj7Qbw"
      },
      "outputs": [],
      "source": [
        "from qiskit.quantum_info import Statevector\n",
        "from qiskit import QuantumCircuit, QuantumRegister, ClassicalRegister\n",
        "from qiskit.quantum_info import Operator\n",
        "from qiskit.visualization import plot_histogram"
      ]
    },
    {
      "cell_type": "code",
      "execution_count": 40,
      "metadata": {
        "colab": {
          "base_uri": "https://localhost:8080/",
          "height": 94
        },
        "id": "SSt3IS7d1Njk",
        "outputId": "abf74e66-1563-4a5a-d50b-7bd7477f6eda"
      },
      "outputs": [
        {
          "data": {
            "text/html": [
              "<pre style=\"word-wrap: normal;white-space: pre;background: #fff0;line-height: 1.1;font-family: &quot;Courier New&quot;,Courier,monospace\">          ┌───┐     \n",
              "q_0: ──■──┤ X ├──■──\n",
              "     ┌─┴─┐└─┬─┘┌─┴─┐\n",
              "q_1: ┤ X ├──■──┤ X ├\n",
              "     └───┘     └───┘</pre>"
            ],
            "text/plain": [
              "          ┌───┐     \n",
              "q_0: ──■──┤ X ├──■──\n",
              "     ┌─┴─┐└─┬─┘┌─┴─┐\n",
              "q_1: ┤ X ├──■──┤ X ├\n",
              "     └───┘     └───┘"
            ]
          },
          "metadata": {},
          "output_type": "display_data"
        }
      ],
      "source": [
        "#circuit that swaps the state of two qubits\n",
        "\n",
        "circuit = QuantumCircuit(2)\n",
        "\n",
        "circuit.cx(0,1)\n",
        "circuit.cx(1,0)\n",
        "circuit.cx(0,1)\n",
        "\n",
        "display(circuit.draw())"
      ]
    },
    {
      "cell_type": "code",
      "execution_count": 41,
      "metadata": {
        "colab": {
          "base_uri": "https://localhost:8080/",
          "height": 63
        },
        "id": "HJPkzSu94QQH",
        "outputId": "19d5348d-64bd-4e3a-c444-e115466ee9e0"
      },
      "outputs": [
        {
          "data": {
            "text/html": [
              "<pre style=\"word-wrap: normal;white-space: pre;background: #fff0;line-height: 1.1;font-family: &quot;Courier New&quot;,Courier,monospace\">   ┌───┐\n",
              "q: ┤ H ├\n",
              "   └───┘</pre>"
            ],
            "text/plain": [
              "   ┌───┐\n",
              "q: ┤ H ├\n",
              "   └───┘"
            ]
          },
          "metadata": {},
          "output_type": "display_data"
        }
      ],
      "source": [
        "#circuit that takes the computational basis to Hadamard basis\n",
        "\n",
        "circuit = QuantumCircuit(1)\n",
        "\n",
        "circuit.h(0)\n",
        "\n",
        "display(circuit.draw())"
      ]
    },
    {
      "cell_type": "code",
      "execution_count": 44,
      "metadata": {
        "colab": {
          "base_uri": "https://localhost:8080/",
          "height": 81
        },
        "id": "mcFqfjdB6IiV",
        "outputId": "74d0d484-7e35-4577-cf16-31ab96e575e1"
      },
      "outputs": [
        {
          "data": {
            "text/latex": [
              "$$ |0\\rangle$$"
            ],
            "text/plain": [
              "<IPython.core.display.Latex object>"
            ]
          },
          "metadata": {},
          "output_type": "display_data"
        },
        {
          "data": {
            "text/latex": [
              "$$ |000\\rangle$$"
            ],
            "text/plain": [
              "<IPython.core.display.Latex object>"
            ]
          },
          "metadata": {},
          "output_type": "display_data"
        },
        {
          "data": {
            "text/latex": [
              "$$\\frac{\\sqrt{2}}{2} |000\\rangle+\\frac{\\sqrt{2}}{2} |111\\rangle$$"
            ],
            "text/plain": [
              "<IPython.core.display.Latex object>"
            ]
          },
          "metadata": {},
          "output_type": "display_data"
        }
      ],
      "source": [
        "#circuit to make GHZ state\n",
        "u = Statevector([1, 0])\n",
        "display(u.draw(\"latex\"))\n",
        "\n",
        "initial = u.tensor(u.tensor(u))\n",
        "display(initial.draw(\"latex\"))\n",
        "\n",
        "circuit = QuantumCircuit(3)\n",
        "\n",
        "circuit.h(0)\n",
        "circuit.cx(0,1)\n",
        "circuit.cx(1,2)\n",
        "\n",
        "final = initial.evolve(circuit)\n",
        "display(final.draw(\"latex\"))\n"
      ]
    },
    {
      "cell_type": "code",
      "execution_count": 45,
      "metadata": {
        "colab": {
          "base_uri": "https://localhost:8080/",
          "height": 125
        },
        "id": "sb0xq_X_QB-F",
        "outputId": "b178dbfb-7c9d-4f4d-fe1d-7eea699f4b3e"
      },
      "outputs": [
        {
          "data": {
            "text/html": [
              "<pre style=\"word-wrap: normal;white-space: pre;background: #fff0;line-height: 1.1;font-family: &quot;Courier New&quot;,Courier,monospace\">     ┌───┐          \n",
              "q_0: ┤ H ├──■───────\n",
              "     └───┘┌─┴─┐     \n",
              "q_1: ─────┤ X ├──■──\n",
              "          └───┘┌─┴─┐\n",
              "q_2: ──────────┤ X ├\n",
              "               └───┘</pre>"
            ],
            "text/plain": [
              "     ┌───┐          \n",
              "q_0: ┤ H ├──■───────\n",
              "     └───┘┌─┴─┐     \n",
              "q_1: ─────┤ X ├──■──\n",
              "          └───┘┌─┴─┐\n",
              "q_2: ──────────┤ X ├\n",
              "               └───┘"
            ]
          },
          "metadata": {},
          "output_type": "display_data"
        }
      ],
      "source": [
        "display(circuit.draw())"
      ]
    },
    {
      "cell_type": "code",
      "execution_count": 46,
      "metadata": {
        "colab": {
          "base_uri": "https://localhost:8080/",
          "height": 40
        },
        "id": "OWWMMaNH7Rp1",
        "outputId": "8233f94b-0096-45c3-ff3a-e49267a6b4fe"
      },
      "outputs": [
        {
          "data": {
            "text/latex": [
              "$$\\frac{\\sqrt{3}}{3} |001\\rangle+\\frac{\\sqrt{3}}{3} |010\\rangle+\\frac{\\sqrt{3}}{3} |100\\rangle$$"
            ],
            "text/plain": [
              "<IPython.core.display.Latex object>"
            ]
          },
          "metadata": {},
          "output_type": "display_data"
        }
      ],
      "source": [
        "#circuit to make W state\n",
        "\n",
        "U = np.array([[np.sqrt(2/3), -np.sqrt(1/3)],\n",
        "              [np.sqrt(1/3), np.sqrt(2/3)]])\n",
        "U_gate = Operator(U)\n",
        "circuit = QuantumCircuit(3)\n",
        "\n",
        "circuit.unitary(U_gate, 0)\n",
        "circuit.x(0)\n",
        "circuit.ch(0,1)\n",
        "circuit.x(1)\n",
        "circuit.ccx(0,1,2)\n",
        "circuit.x(0)\n",
        "circuit.x(1)\n",
        "\n",
        "final = initial.evolve(circuit)\n",
        "display(final.draw(\"latex\"))\n"
      ]
    },
    {
      "cell_type": "code",
      "execution_count": 47,
      "metadata": {
        "colab": {
          "base_uri": "https://localhost:8080/",
          "height": 125
        },
        "id": "RmcNCBenQXBv",
        "outputId": "2fa49ede-ef03-45a7-f9e1-994950d5841d"
      },
      "outputs": [
        {
          "data": {
            "text/html": [
              "<pre style=\"word-wrap: normal;white-space: pre;background: #fff0;line-height: 1.1;font-family: &quot;Courier New&quot;,Courier,monospace\">     ┌─────────┐┌───┐               ┌───┐\n",
              "q_0: ┤ Unitary ├┤ X ├──■─────────■──┤ X ├\n",
              "     └─────────┘└───┘┌─┴─┐┌───┐  │  ├───┤\n",
              "q_1: ────────────────┤ H ├┤ X ├──■──┤ X ├\n",
              "                     └───┘└───┘┌─┴─┐└───┘\n",
              "q_2: ──────────────────────────┤ X ├─────\n",
              "                               └───┘     </pre>"
            ],
            "text/plain": [
              "     ┌─────────┐┌───┐               ┌───┐\n",
              "q_0: ┤ Unitary ├┤ X ├──■─────────■──┤ X ├\n",
              "     └─────────┘└───┘┌─┴─┐┌───┐  │  ├───┤\n",
              "q_1: ────────────────┤ H ├┤ X ├──■──┤ X ├\n",
              "                     └───┘└───┘┌─┴─┐└───┘\n",
              "q_2: ──────────────────────────┤ X ├─────\n",
              "                               └───┘     "
            ]
          },
          "metadata": {},
          "output_type": "display_data"
        }
      ],
      "source": [
        "display(circuit.draw())"
      ]
    },
    {
      "cell_type": "code",
      "execution_count": 27,
      "metadata": {
        "colab": {
          "base_uri": "https://localhost:8080/",
          "height": 125
        },
        "id": "wzA5F983E5yI",
        "outputId": "cc9dcd4a-36ff-46a7-bafc-3897f78357b0"
      },
      "outputs": [
        {
          "data": {
            "text/html": [
              "<pre style=\"word-wrap: normal;white-space: pre;background: #fff0;line-height: 1.1;font-family: &quot;Courier New&quot;,Courier,monospace\">                    \n",
              "q_0: ──■────■────■──\n",
              "       │  ┌─┴─┐  │  \n",
              "q_1: ──■──┤ X ├──■──\n",
              "     ┌─┴─┐└─┬─┘┌─┴─┐\n",
              "q_2: ┤ X ├──■──┤ X ├\n",
              "     └───┘     └───┘</pre>"
            ],
            "text/plain": [
              "                    \n",
              "q_0: ──■────■────■──\n",
              "       │  ┌─┴─┐  │  \n",
              "q_1: ──■──┤ X ├──■──\n",
              "     ┌─┴─┐└─┬─┘┌─┴─┐\n",
              "q_2: ┤ X ├──■──┤ X ├\n",
              "     └───┘     └───┘"
            ]
          },
          "metadata": {},
          "output_type": "display_data"
        }
      ],
      "source": [
        "# circuit mentioned in question 4\n",
        "\n",
        "circuit = QuantumCircuit(3)\n",
        "\n",
        "circuit.ccx(0,1,2)\n",
        "circuit.ccx(0,2,1)\n",
        "circuit.ccx(0,1,2)\n",
        "\n",
        "display(circuit.draw())"
      ]
    },
    {
      "cell_type": "code",
      "execution_count": 51,
      "metadata": {
        "colab": {
          "base_uri": "https://localhost:8080/",
          "height": 125
        },
        "id": "NImP_OfhK9Sl",
        "outputId": "b61b1afb-cc01-4b62-de32-f9a3489a4640"
      },
      "outputs": [
        {
          "data": {
            "text/html": [
              "<pre style=\"word-wrap: normal;white-space: pre;background: #fff0;line-height: 1.1;font-family: &quot;Courier New&quot;,Courier,monospace\">     ┌───┐┌───┐     ┌───┐     ┌───┐\n",
              "q_0: ┤ X ├┤ X ├─────┤ X ├─────┤ X ├\n",
              "     └───┘└─┬─┘┌───┐└─┬─┘┌───┐└─┬─┘\n",
              "q_1: ───────■──┤ X ├──■──┤ X ├──■──\n",
              "               └─┬─┘  │  └─┬─┘     \n",
              "q_2: ────────────■────■────■───────\n",
              "                                   </pre>"
            ],
            "text/plain": [
              "     ┌───┐┌───┐     ┌───┐     ┌───┐\n",
              "q_0: ┤ X ├┤ X ├─────┤ X ├─────┤ X ├\n",
              "     └───┘└─┬─┘┌───┐└─┬─┘┌───┐└─┬─┘\n",
              "q_1: ───────■──┤ X ├──■──┤ X ├──■──\n",
              "               └─┬─┘  │  └─┬─┘     \n",
              "q_2: ────────────■────■────■───────\n",
              "                                   "
            ]
          },
          "metadata": {},
          "output_type": "display_data"
        }
      ],
      "source": [
        "# 3 bit number decrement\n",
        "circuit = QuantumCircuit(3)\n",
        "\n",
        "circuit.x(0)\n",
        "circuit.cx(1,0)\n",
        "circuit.cx(2,1)\n",
        "circuit.ccx(2,1,0)\n",
        "circuit.cx(2,1)\n",
        "circuit.cx(1,0)\n",
        "\n",
        "display(circuit.draw())\n",
        "\n"
      ]
    }
  ],
  "metadata": {
    "accelerator": "GPU",
    "colab": {
      "gpuType": "T4",
      "provenance": []
    },
    "kernelspec": {
      "display_name": "Python 3",
      "name": "python3"
    },
    "language_info": {
      "name": "python"
    }
  },
  "nbformat": 4,
  "nbformat_minor": 0
}
